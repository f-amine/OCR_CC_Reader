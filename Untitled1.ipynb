{
 "cells": [
  {
   "cell_type": "code",
   "execution_count": 10,
   "id": "7535715c-c31f-477c-8400-4b50f64586a2",
   "metadata": {
    "ExecuteTime": {
     "end_time": "2023-12-20T14:19:20.804128007Z",
     "start_time": "2023-12-20T14:19:20.762591924Z"
    }
   },
   "outputs": [],
   "source": [
    "from ikomia.dataprocess.workflow import Workflow\n",
    "from ikomia.utils.displayIO import display\n",
    "\n",
    "# Init your workflow\n",
    "wf = Workflow()\n",
    "\n",
    "# Add text detection algorithm\n",
    "text_det = wf.add_task(name=\"infer_mmlab_text_detection\", auto_connect=True)\n",
    "\n",
    "# Add text recognition algorithm\n",
    "text_rec = wf.add_task(name=\"infer_mmlab_text_recognition\", auto_connect=True)\n",
    "text_rec.set_parameters({\n",
    "    \"model_name\": \"sar\",\n",
    "    \"cfg\": \"sar_resnet31_parallel-decoder_5e_st-sub_mj-sub_sa_real.py\",\n",
    "})\n",
    "text_det.set_parameters({\n",
    "    \"model_name\": \"dbnetpp\",\n",
    "    \"cfg\": \"dbnetpp_resnet50-dcnv2_fpnc_1200e_icdar2015.py\",\n",
    "})\n"
   ]
  },
  {
   "cell_type": "code",
   "execution_count": 11,
   "outputs": [
    {
     "name": "stderr",
     "output_type": "stream",
     "text": [
      "Carte_identit_lectronique_marocaine_(2020_recto).png: 100%|██████████| 295k/295k [00:00<00:00, 814kiB/s] \n"
     ]
    },
    {
     "name": "stdout",
     "output_type": "stream",
     "text": [
      "Loads checkpoint by http backend from path: https://download.openmmlab.com/mmocr/textdet/dbnetpp/dbnetpp_resnet50-dcnv2_fpnc_1200e_icdar2015/dbnetpp_resnet50-dcnv2_fpnc_1200e_icdar2015_20220829_230108-f289bd20.pth\n",
      "12/20 15:19:23 - mmengine - \u001B[4m\u001B[97mINFO\u001B[0m - ModulatedDeformConvPack backbone.layer2.0.conv2 is upgraded to version 2.\n",
      "12/20 15:19:23 - mmengine - \u001B[4m\u001B[97mINFO\u001B[0m - ModulatedDeformConvPack backbone.layer2.1.conv2 is upgraded to version 2.\n",
      "12/20 15:19:23 - mmengine - \u001B[4m\u001B[97mINFO\u001B[0m - ModulatedDeformConvPack backbone.layer2.2.conv2 is upgraded to version 2.\n",
      "12/20 15:19:23 - mmengine - \u001B[4m\u001B[97mINFO\u001B[0m - ModulatedDeformConvPack backbone.layer2.3.conv2 is upgraded to version 2.\n",
      "12/20 15:19:23 - mmengine - \u001B[4m\u001B[97mINFO\u001B[0m - ModulatedDeformConvPack backbone.layer3.0.conv2 is upgraded to version 2.\n",
      "12/20 15:19:23 - mmengine - \u001B[4m\u001B[97mINFO\u001B[0m - ModulatedDeformConvPack backbone.layer3.1.conv2 is upgraded to version 2.\n",
      "12/20 15:19:23 - mmengine - \u001B[4m\u001B[97mINFO\u001B[0m - ModulatedDeformConvPack backbone.layer3.2.conv2 is upgraded to version 2.\n",
      "12/20 15:19:23 - mmengine - \u001B[4m\u001B[97mINFO\u001B[0m - ModulatedDeformConvPack backbone.layer3.3.conv2 is upgraded to version 2.\n",
      "12/20 15:19:23 - mmengine - \u001B[4m\u001B[97mINFO\u001B[0m - ModulatedDeformConvPack backbone.layer3.4.conv2 is upgraded to version 2.\n",
      "12/20 15:19:24 - mmengine - \u001B[4m\u001B[97mINFO\u001B[0m - ModulatedDeformConvPack backbone.layer3.5.conv2 is upgraded to version 2.\n",
      "12/20 15:19:24 - mmengine - \u001B[4m\u001B[97mINFO\u001B[0m - ModulatedDeformConvPack backbone.layer4.0.conv2 is upgraded to version 2.\n",
      "12/20 15:19:24 - mmengine - \u001B[4m\u001B[97mINFO\u001B[0m - ModulatedDeformConvPack backbone.layer4.1.conv2 is upgraded to version 2.\n",
      "12/20 15:19:24 - mmengine - \u001B[4m\u001B[97mINFO\u001B[0m - ModulatedDeformConvPack backbone.layer4.2.conv2 is upgraded to version 2.\n",
      "The model and loaded state dict do not match exactly\n",
      "\n",
      "unexpected key in source state_dict: data_preprocessor.mean, data_preprocessor.std\n"
     ]
    },
    {
     "data": {
      "text/plain": "Output()",
      "application/vnd.jupyter.widget-view+json": {
       "version_major": 2,
       "version_minor": 0,
       "model_id": "0f9511816c294a00a0a7b20719db766e"
      }
     },
     "metadata": {},
     "output_type": "display_data"
    },
    {
     "name": "stdout",
     "output_type": "stream",
     "text": [
      "Model loaded!\n"
     ]
    },
    {
     "data": {
      "text/plain": "",
      "text/html": "<pre style=\"white-space:pre;overflow-x:auto;line-height:normal;font-family:Menlo,'DejaVu Sans Mono',consolas,'Courier New',monospace\"></pre>\n"
     },
     "metadata": {},
     "output_type": "display_data"
    },
    {
     "data": {
      "text/plain": "\n",
      "text/html": "<pre style=\"white-space:pre;overflow-x:auto;line-height:normal;font-family:Menlo,'DejaVu Sans Mono',consolas,'Courier New',monospace\">\n</pre>\n"
     },
     "metadata": {},
     "output_type": "display_data"
    },
    {
     "name": "stdout",
     "output_type": "stream",
     "text": [
      "Loading text recognition model...\n",
      "Loads checkpoint by http backend from path: https://download.openmmlab.com/mmocr/textrecog/sar/sar_resnet31_parallel-decoder_5e_st-sub_mj-sub_sa_real/sar_resnet31_parallel-decoder_5e_st-sub_mj-sub_sa_real_20220915_171910-04eb4e75.pth\n"
     ]
    },
    {
     "data": {
      "text/plain": "Output()",
      "application/vnd.jupyter.widget-view+json": {
       "version_major": 2,
       "version_minor": 0,
       "model_id": "f4feff3b5c3b40b4bb56005ac9217b1d"
      }
     },
     "metadata": {},
     "output_type": "display_data"
    },
    {
     "name": "stdout",
     "output_type": "stream",
     "text": [
      "The model and loaded state dict do not match exactly\n",
      "\n",
      "unexpected key in source state_dict: data_preprocessor.mean, data_preprocessor.std\n",
      "\n",
      "Model loaded!\n"
     ]
    },
    {
     "data": {
      "text/plain": "",
      "text/html": "<pre style=\"white-space:pre;overflow-x:auto;line-height:normal;font-family:Menlo,'DejaVu Sans Mono',consolas,'Courier New',monospace\"></pre>\n"
     },
     "metadata": {},
     "output_type": "display_data"
    },
    {
     "data": {
      "text/plain": "\n",
      "text/html": "<pre style=\"white-space:pre;overflow-x:auto;line-height:normal;font-family:Menlo,'DejaVu Sans Mono',consolas,'Courier New',monospace\">\n</pre>\n"
     },
     "metadata": {},
     "output_type": "display_data"
    },
    {
     "name": "stdout",
     "output_type": "stream",
     "text": [
      "Workflow Untitled run successfully in 4376.556265 ms.\n"
     ]
    }
   ],
   "source": [
    "wf.run_on(url=\"https://i.postimg.cc/jj594sgC/Carte_identit_lectronique_marocaine_(2020_recto).png\")\n",
    "\n",
    "# Display results\n",
    "img_output = text_rec.get_output(0)\n",
    "recognition_output = text_rec.get_output(1)\n",
    "display(img_output.get_image_with_mask_and_graphics(recognition_output), title=\"MMLAB text recognition\")"
   ],
   "metadata": {
    "collapsed": false,
    "ExecuteTime": {
     "end_time": "2023-12-20T14:19:27.775991482Z",
     "start_time": "2023-12-20T14:19:22.639321304Z"
    }
   },
   "id": "a92c4ef308c0f96a"
  },
  {
   "cell_type": "code",
   "execution_count": 15,
   "outputs": [
    {
     "name": "stdout",
     "output_type": "stream",
     "text": [
      "JSON data saved to: /home/smilox/Desktop/pfaml/data.json\n"
     ]
    }
   ],
   "source": [
    "import json\n",
    "import os\n",
    "\n",
    "output_data = text_rec.get_output(1).to_json(\n",
    "    # options= ['json_format', 'indented']\n",
    ")\n",
    "\n",
    "# Get the current working directory\n",
    "current_directory = os.getcwd()\n",
    "\n",
    "# Specify the path for the data.json file\n",
    "json_file_path = os.path.join(current_directory, 'data.json')\n",
    "\n",
    "# Save the JSON data to the file\n",
    "with open(json_file_path, 'w') as json_file:\n",
    "    json.dump(output_data, json_file)\n",
    "\n",
    "print(f\"JSON data saved to: {json_file_path}\")"
   ],
   "metadata": {
    "collapsed": false,
    "ExecuteTime": {
     "end_time": "2023-12-20T14:23:23.463979066Z",
     "start_time": "2023-12-20T14:23:23.419316399Z"
    }
   },
   "id": "898cbae7f1326913"
  },
  {
   "cell_type": "code",
   "execution_count": null,
   "outputs": [],
   "source": [],
   "metadata": {
    "collapsed": false
   },
   "id": "2fc4a99caa24c5bf"
  }
 ],
 "metadata": {
  "kernelspec": {
   "display_name": "Python 3 (ipykernel)",
   "language": "python",
   "name": "python3"
  },
  "language_info": {
   "codemirror_mode": {
    "name": "ipython",
    "version": 3
   },
   "file_extension": ".py",
   "mimetype": "text/x-python",
   "name": "python",
   "nbconvert_exporter": "python",
   "pygments_lexer": "ipython3",
   "version": "3.10.13"
  }
 },
 "nbformat": 4,
 "nbformat_minor": 5
}
