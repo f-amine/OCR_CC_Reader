{
 "cells": [
  {
   "cell_type": "markdown",
   "source": [],
   "metadata": {
    "collapsed": false
   },
   "id": "8d29638a240dddc8"
  },
  {
   "cell_type": "code",
   "execution_count": 1,
   "id": "7535715c-c31f-477c-8400-4b50f64586a2",
   "metadata": {
    "ExecuteTime": {
     "end_time": "2023-12-27T12:23:14.169275415Z",
     "start_time": "2023-12-27T12:22:57.367025318Z"
    }
   },
   "outputs": [
    {
     "name": "stderr",
     "output_type": "stream",
     "text": [
      "/home/smilox/env/lib/python3.10/site-packages/numpy/core/getlimits.py:500: UserWarning: The value of the smallest subnormal for <class 'numpy.float64'> type is zero.\n",
      "  setattr(self, word, getattr(machar, word).flat[0])\n",
      "/home/smilox/env/lib/python3.10/site-packages/numpy/core/getlimits.py:89: UserWarning: The value of the smallest subnormal for <class 'numpy.float64'> type is zero.\n",
      "  return self._float_to_str(self.smallest_subnormal)\n",
      "/home/smilox/env/lib/python3.10/site-packages/numpy/core/getlimits.py:500: UserWarning: The value of the smallest subnormal for <class 'numpy.float32'> type is zero.\n",
      "  setattr(self, word, getattr(machar, word).flat[0])\n",
      "/home/smilox/env/lib/python3.10/site-packages/numpy/core/getlimits.py:89: UserWarning: The value of the smallest subnormal for <class 'numpy.float32'> type is zero.\n",
      "  return self._float_to_str(self.smallest_subnormal)\n"
     ]
    }
   ],
   "source": [
    "from ikomia.dataprocess.workflow import Workflow\n",
    "from ikomia.utils.displayIO import display\n",
    "\n",
    "# Init your workflow\n",
    "wf = Workflow()\n",
    "\n",
    "# Add text detection algorithm\n",
    "text_det = wf.add_task(name=\"infer_mmlab_text_detection\", auto_connect=True)\n",
    "\n",
    "# Add text recognition algorithm\n",
    "text_rec = wf.add_task(name=\"infer_mmlab_text_recognition\", auto_connect=True)\n",
    "text_rec.set_parameters({\n",
    "    \"model_name\": \"sar\",\n",
    "    \"cfg\": \"sar_resnet31_parallel-decoder_5e_st-sub_mj-sub_sa_real.py\",\n",
    "})\n",
    "text_det.set_parameters({\n",
    "    \"model_name\": \"dbnetpp\",\n",
    "    \"cfg\": \"dbnetpp_resnet50-dcnv2_fpnc_1200e_icdar2015.py\",\n",
    "})\n"
   ]
  },
  {
   "cell_type": "code",
   "execution_count": 5,
   "outputs": [
    {
     "name": "stderr",
     "output_type": "stream",
     "text": [
      "Whats-App-Image-2023-12-19-at-9-09-59-PM.jpg: 100%|██████████| 94.7k/94.7k [00:00<00:00, 659kiB/s]"
     ]
    },
    {
     "data": {
      "text/plain": "Output()",
      "application/vnd.jupyter.widget-view+json": {
       "version_major": 2,
       "version_minor": 0,
       "model_id": "0674f9972d7c4cb68fc765cc166a47a2"
      }
     },
     "metadata": {},
     "output_type": "display_data"
    },
    {
     "name": "stderr",
     "output_type": "stream",
     "text": [
      "\n"
     ]
    },
    {
     "data": {
      "text/plain": "",
      "text/html": "<pre style=\"white-space:pre;overflow-x:auto;line-height:normal;font-family:Menlo,'DejaVu Sans Mono',consolas,'Courier New',monospace\"></pre>\n"
     },
     "metadata": {},
     "output_type": "display_data"
    },
    {
     "data": {
      "text/plain": "\n",
      "text/html": "<pre style=\"white-space:pre;overflow-x:auto;line-height:normal;font-family:Menlo,'DejaVu Sans Mono',consolas,'Courier New',monospace\">\n</pre>\n"
     },
     "metadata": {},
     "output_type": "display_data"
    },
    {
     "data": {
      "text/plain": "Output()",
      "application/vnd.jupyter.widget-view+json": {
       "version_major": 2,
       "version_minor": 0,
       "model_id": "322fb04dfc5f434bb7a71e9d0673bdd1"
      }
     },
     "metadata": {},
     "output_type": "display_data"
    },
    {
     "data": {
      "text/plain": "",
      "text/html": "<pre style=\"white-space:pre;overflow-x:auto;line-height:normal;font-family:Menlo,'DejaVu Sans Mono',consolas,'Courier New',monospace\"></pre>\n"
     },
     "metadata": {},
     "output_type": "display_data"
    },
    {
     "data": {
      "text/plain": "\n",
      "text/html": "<pre style=\"white-space:pre;overflow-x:auto;line-height:normal;font-family:Menlo,'DejaVu Sans Mono',consolas,'Courier New',monospace\">\n</pre>\n"
     },
     "metadata": {},
     "output_type": "display_data"
    },
    {
     "name": "stdout",
     "output_type": "stream",
     "text": [
      "Workflow Untitled run successfully in 2818.164755 ms.\n"
     ]
    }
   ],
   "source": [
    "wf.run_on(url=\"https://i.postimg.cc/85yXWybL/Whats-App-Image-2023-12-19-at-9-09-59-PM.jpg\")\n",
    "\n",
    "# Display results\n",
    "img_output = text_rec.get_output(0)\n",
    "recognition_output = text_rec.get_output(1)\n",
    "display(img_output.get_image_with_mask_and_graphics(recognition_output), title=\"MMLAB text recognition\")"
   ],
   "metadata": {
    "collapsed": false,
    "ExecuteTime": {
     "end_time": "2023-12-27T12:30:28.119763235Z",
     "start_time": "2023-12-27T12:30:24.837897090Z"
    }
   },
   "id": "a92c4ef308c0f96a"
  },
  {
   "cell_type": "code",
   "execution_count": 6,
   "outputs": [
    {
     "name": "stdout",
     "output_type": "stream",
     "text": [
      "JSON data saved to: /home/smilox/Desktop/pfaml/data.json\n"
     ]
    }
   ],
   "source": [
    "import json\n",
    "import os\n",
    "\n",
    "output_data = text_rec.get_output(1).to_json(\n",
    "    # options= ['json_format', 'indented']\n",
    ")\n",
    "\n",
    "# Get the current working directory\n",
    "current_directory = os.getcwd()\n",
    "\n",
    "# Specify the path for the data.json file\n",
    "json_file_path = os.path.join(current_directory, 'data.json')\n",
    "\n",
    "# Save the JSON data to the file\n",
    "with open(json_file_path, 'w') as json_file:\n",
    "    json.dump(output_data, json_file)\n",
    "\n",
    "print(f\"JSON data saved to: {json_file_path}\")"
   ],
   "metadata": {
    "collapsed": false,
    "ExecuteTime": {
     "end_time": "2023-12-27T12:31:55.414126847Z",
     "start_time": "2023-12-27T12:31:55.370623102Z"
    }
   },
   "id": "898cbae7f1326913"
  },
  {
   "cell_type": "code",
   "execution_count": null,
   "outputs": [],
   "source": [],
   "metadata": {
    "collapsed": false
   },
   "id": "2fc4a99caa24c5bf"
  }
 ],
 "metadata": {
  "kernelspec": {
   "display_name": "Python 3 (ipykernel)",
   "language": "python",
   "name": "python3"
  },
  "language_info": {
   "codemirror_mode": {
    "name": "ipython",
    "version": 3
   },
   "file_extension": ".py",
   "mimetype": "text/x-python",
   "name": "python",
   "nbconvert_exporter": "python",
   "pygments_lexer": "ipython3",
   "version": "3.10.13"
  }
 },
 "nbformat": 4,
 "nbformat_minor": 5
}
